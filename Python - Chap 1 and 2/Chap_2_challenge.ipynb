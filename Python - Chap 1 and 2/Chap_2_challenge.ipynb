{
 "cells": [
  {
   "cell_type": "code",
   "execution_count": 2,
   "metadata": {},
   "outputs": [],
   "source": [
    "import pandas as pd"
   ]
  },
  {
   "cell_type": "code",
   "execution_count": 3,
   "metadata": {},
   "outputs": [],
   "source": [
    "employees = pd.read_excel('H+ Sport Employees.xlsx', sheet_name=\"Employees-Table\")"
   ]
  },
  {
   "cell_type": "code",
   "execution_count": 6,
   "metadata": {},
   "outputs": [
    {
     "data": {
      "text/html": [
       "<div>\n",
       "<style scoped>\n",
       "    .dataframe tbody tr th:only-of-type {\n",
       "        vertical-align: middle;\n",
       "    }\n",
       "\n",
       "    .dataframe tbody tr th {\n",
       "        vertical-align: top;\n",
       "    }\n",
       "\n",
       "    .dataframe thead th {\n",
       "        text-align: right;\n",
       "    }\n",
       "</style>\n",
       "<table border=\"1\" class=\"dataframe\">\n",
       "  <thead>\n",
       "    <tr style=\"text-align: right;\">\n",
       "      <th></th>\n",
       "      <th>Employee Name</th>\n",
       "      <th>Building</th>\n",
       "      <th>Department</th>\n",
       "      <th>Status</th>\n",
       "      <th>Hire Date</th>\n",
       "      <th>Month</th>\n",
       "      <th>Years</th>\n",
       "      <th>Benefits</th>\n",
       "      <th>Salary</th>\n",
       "    </tr>\n",
       "  </thead>\n",
       "  <tbody>\n",
       "    <tr>\n",
       "      <th>0</th>\n",
       "      <td>Page, Lisa</td>\n",
       "      <td>West</td>\n",
       "      <td>ADC</td>\n",
       "      <td>Full Time</td>\n",
       "      <td>1999-01-11</td>\n",
       "      <td>Jan</td>\n",
       "      <td>25</td>\n",
       "      <td>DMR</td>\n",
       "      <td>24550</td>\n",
       "    </tr>\n",
       "    <tr>\n",
       "      <th>1</th>\n",
       "      <td>Taylor, Hector</td>\n",
       "      <td>West</td>\n",
       "      <td>ADC</td>\n",
       "      <td>Half-Time</td>\n",
       "      <td>2011-02-21</td>\n",
       "      <td>Feb</td>\n",
       "      <td>12</td>\n",
       "      <td>DM</td>\n",
       "      <td>26795</td>\n",
       "    </tr>\n",
       "    <tr>\n",
       "      <th>2</th>\n",
       "      <td>Dawson, Jonathan</td>\n",
       "      <td>West</td>\n",
       "      <td>ADC</td>\n",
       "      <td>Contract</td>\n",
       "      <td>2007-03-06</td>\n",
       "      <td>Mar</td>\n",
       "      <td>16</td>\n",
       "      <td>NaN</td>\n",
       "      <td>42540</td>\n",
       "    </tr>\n",
       "    <tr>\n",
       "      <th>3</th>\n",
       "      <td>Duran, Brian</td>\n",
       "      <td>Taft</td>\n",
       "      <td>ADC</td>\n",
       "      <td>Hourly</td>\n",
       "      <td>2012-08-30</td>\n",
       "      <td>Aug</td>\n",
       "      <td>11</td>\n",
       "      <td>NaN</td>\n",
       "      <td>35680</td>\n",
       "    </tr>\n",
       "    <tr>\n",
       "      <th>4</th>\n",
       "      <td>Weber, Larry</td>\n",
       "      <td>Watson</td>\n",
       "      <td>ADC</td>\n",
       "      <td>Full Time</td>\n",
       "      <td>2007-12-31</td>\n",
       "      <td>Dec</td>\n",
       "      <td>16</td>\n",
       "      <td>M</td>\n",
       "      <td>72830</td>\n",
       "    </tr>\n",
       "  </tbody>\n",
       "</table>\n",
       "</div>"
      ],
      "text/plain": [
       "      Employee Name Building Department     Status  Hire Date Month  Years  \\\n",
       "0        Page, Lisa     West        ADC  Full Time 1999-01-11   Jan     25   \n",
       "1    Taylor, Hector     West        ADC  Half-Time 2011-02-21   Feb     12   \n",
       "2  Dawson, Jonathan     West        ADC   Contract 2007-03-06   Mar     16   \n",
       "3      Duran, Brian     Taft        ADC     Hourly 2012-08-30   Aug     11   \n",
       "4      Weber, Larry   Watson        ADC  Full Time 2007-12-31   Dec     16   \n",
       "\n",
       "  Benefits  Salary  \n",
       "0      DMR   24550  \n",
       "1       DM   26795  \n",
       "2      NaN   42540  \n",
       "3      NaN   35680  \n",
       "4        M   72830  "
      ]
     },
     "execution_count": 6,
     "metadata": {},
     "output_type": "execute_result"
    }
   ],
   "source": [
    "employees.head()"
   ]
  },
  {
   "cell_type": "code",
   "execution_count": null,
   "metadata": {},
   "outputs": [],
   "source": [
    "#dropping columns\n",
    "#axis=1 means columns\n",
    "#axis=0 means rows\n",
    "\n",
    "employees.drop(['Job Rating', 'New Salary', 'Tax Rate', '2.91%'], axis=1, inplace=True)"
   ]
  },
  {
   "cell_type": "code",
   "execution_count": 7,
   "metadata": {},
   "outputs": [
    {
     "data": {
      "text/plain": [
       "Index(['Employee Name', 'Building', 'Department', 'Status', 'Hire Date',\n",
       "       'Month', 'Years', 'Benefits', 'Salary'],\n",
       "      dtype='object')"
      ]
     },
     "execution_count": 7,
     "metadata": {},
     "output_type": "execute_result"
    }
   ],
   "source": [
    "employees.columns"
   ]
  }
 ],
 "metadata": {
  "kernelspec": {
   "display_name": "Python 3",
   "language": "python",
   "name": "python3"
  },
  "language_info": {
   "codemirror_mode": {
    "name": "ipython",
    "version": 3
   },
   "file_extension": ".py",
   "mimetype": "text/x-python",
   "name": "python",
   "nbconvert_exporter": "python",
   "pygments_lexer": "ipython3",
   "version": "3.12.1"
  }
 },
 "nbformat": 4,
 "nbformat_minor": 2
}
